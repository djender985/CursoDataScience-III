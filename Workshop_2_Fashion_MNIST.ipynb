{
  "cells": [
    {
      "cell_type": "markdown",
      "metadata": {
        "id": "75s74ZW20Gon"
      },
      "source": [
        "# 🕸️🧠 Redes Neuronales 🧠🕸️"
      ]
    },
    {
      "cell_type": "markdown",
      "metadata": {
        "id": "vwfzoB89DAqc"
      },
      "source": [
        "El objetivo de este ejercicio es comparar el rendimiento de un modelo de red neuronal para clasificación de imágenes utilizando el dataset Fashion MNIST, aplicando un autoencoder para reducción de dimensionalidad. Se evaluará cómo la inclusión del autoencoder afecta el accuracy del modelo, explorando el trade-off entre precisión y eficiencia en el proceso de entrenamiento."
      ]
    },
    {
      "cell_type": "markdown",
      "metadata": {
        "id": "Qs0-absf0sdt"
      },
      "source": [
        "## ✂️🔨⛏️ Importacion de las herramientas a usar ⛏️🔨✂️"
      ]
    },
    {
      "cell_type": "code",
      "execution_count": 9,
      "metadata": {
        "id": "CPpyL5uQCsCg"
      },
      "outputs": [],
      "source": [
        "import tensorflow as tf\n",
        "from tensorflow.keras.models import Sequential\n",
        "from tensorflow.keras.layers import Dense, Flatten, Dropout\n",
        "from tensorflow.keras.datasets import fashion_mnist\n",
        "import matplotlib.pyplot as plt\n",
        "import numpy as np"
      ]
    },
    {
      "cell_type": "markdown",
      "metadata": {
        "id": "w_rdmXHn0ysB"
      },
      "source": [
        "## 🔍 Cargar y visualizar el dataset 🔎"
      ]
    },
    {
      "cell_type": "code",
      "execution_count": 2,
      "metadata": {
        "colab": {
          "base_uri": "https://localhost:8080/",
          "height": 309
        },
        "id": "U-aCvskHRMhI",
        "outputId": "99f4a1d7-eeb1-4f1a-f519-e2e048197fd4"
      },
      "outputs": [
        {
          "name": "stdout",
          "output_type": "stream",
          "text": [
            "Downloading data from https://storage.googleapis.com/tensorflow/tf-keras-datasets/train-labels-idx1-ubyte.gz\n",
            "\u001b[1m29515/29515\u001b[0m \u001b[32m━━━━━━━━━━━━━━━━━━━━\u001b[0m\u001b[37m\u001b[0m \u001b[1m0s\u001b[0m 0us/step\n",
            "Downloading data from https://storage.googleapis.com/tensorflow/tf-keras-datasets/train-images-idx3-ubyte.gz\n",
            "\u001b[1m26421880/26421880\u001b[0m \u001b[32m━━━━━━━━━━━━━━━━━━━━\u001b[0m\u001b[37m\u001b[0m \u001b[1m0s\u001b[0m 0us/step\n",
            "Downloading data from https://storage.googleapis.com/tensorflow/tf-keras-datasets/t10k-labels-idx1-ubyte.gz\n",
            "\u001b[1m5148/5148\u001b[0m \u001b[32m━━━━━━━━━━━━━━━━━━━━\u001b[0m\u001b[37m\u001b[0m \u001b[1m0s\u001b[0m 0us/step\n",
            "Downloading data from https://storage.googleapis.com/tensorflow/tf-keras-datasets/t10k-images-idx3-ubyte.gz\n",
            "\u001b[1m4422102/4422102\u001b[0m \u001b[32m━━━━━━━━━━━━━━━━━━━━\u001b[0m\u001b[37m\u001b[0m \u001b[1m0s\u001b[0m 0us/step\n"
          ]
        },
        {
          "data": {
            "image/png": "[encoded data removed]",
            "text/plain": [
              "<Figure size 1000x200 with 5 Axes>"
            ]
          },
          "metadata": {},
          "output_type": "display_data"
        }
      ],
      "source": [
        "# Cargar el dataset Fashion-MNIST\n",
        "(x_train, y_train), (x_test, y_test) = fashion_mnist.load_data()\n",
        "x_train, x_test = x_train / 255.0, x_test / 255.0  # Normalizar los datos\n",
        "\n",
        "# Mostrar algunas imágenes del dataset\n",
        "fig, axes = plt.subplots(1, 5, figsize=(10, 2))\n",
        "for i in range(5):\n",
        "    axes[i].imshow(x_train[i], cmap='gray')\n",
        "    axes[i].axis('off')\n",
        "plt.show()\n"
      ]
    },
    {
      "cell_type": "markdown",
      "metadata": {
        "id": "LgMruksn09-s"
      },
      "source": [
        "## 🥸 Consigna del Workshop 🥸"
      ]
    },
    {
      "cell_type": "markdown",
      "metadata": {
        "id": "2QfmaVpMwBKD"
      },
      "source": [
        " Consignas para los alumnos:\n",
        " 1. Analiza la estructura de la red neuronal correcta y observa la función de cada capa.\n",
        " 2. Reordena las capas del modelo para que coincidan con el modelo correcto.\n",
        " 3. Una pista: empieza con Flatten y termina con la capa de 10 neuronas con softmax.\n",
        " 4. Luego de corregir el modelo, compílalo y entrénalo para verificar su accuracy.\n",
        " 5. Calcula el accuracy del modelo corregido.\n",
        "\n",
        " PS: para la compilaciòn: optimizer='adam', loss='sparse_categorical_crossentropy', metrics=['accuracy'])\n",
        "\n",
        " PS2: para el entrenamiento no màs de 5 e`pocas y validarlo."
      ]
    },
    {
      "cell_type": "markdown",
      "metadata": {
        "id": "_fiNapNSSFSS"
      },
      "source": [
        "Capas a usar."
      ]
    },
    {
      "cell_type": "markdown",
      "metadata": {
        "id": "Ol99TcW11FcI"
      },
      "source": [
        "## 📚 Modelo secuencial para Clasificacion 📚"
      ]
    },
    {
      "cell_type": "code",
      "execution_count": 4,
      "metadata": {
        "id": "WOUqrv7oRdVC"
      },
      "outputs": [],
      "source": [
        "# Crear el modelo secuencial\n",
        "model = Sequential([\n",
        "  Flatten(input_shape=(28, 28)),  # Capa de entrada (Flatten)\n",
        "  Dense(512, activation='relu'),  # Capa densa con 512 neuronas y ReLU\n",
        "  Dropout(0.2),  # Dropout del 20%\n",
        "  Dense(256, activation='relu'),  # Capa densa con 256 neuronas y ReLU\n",
        "  Dropout(0.2),  # Dropout del 20%\n",
        "  Dense(128, activation='relu'),  # Capa densa con 128 neuronas y ReLU\n",
        "  Dense(10, activation='softmax') # Capa de salida con 10 neuronas y softmax\n",
        "])\n",
        "\n",
        "# Compilar el modelo\n",
        "model.compile(optimizer='adam', loss='sparse_categorical_crossentropy', metrics=['accuracy'])\n"
      ]
    },
    {
      "cell_type": "code",
      "execution_count": 6,
      "metadata": {
        "colab": {
          "base_uri": "https://localhost:8080/"
        },
        "id": "iPlMGdjjlb1S",
        "outputId": "27c40806-b756-48c2-d770-6ed20c2ce316"
      },
      "outputs": [
        {
          "name": "stdout",
          "output_type": "stream",
          "text": [
            "Epoch 1/5\n",
            "\u001b[1m938/938\u001b[0m \u001b[32m━━━━━━━━━━━━━━━━━━━━\u001b[0m\u001b[37m\u001b[0m \u001b[1m12s\u001b[0m 13ms/step - accuracy: 0.8857 - loss: 0.3090 - val_accuracy: 0.8716 - val_loss: 0.3592\n",
            "Epoch 2/5\n",
            "\u001b[1m938/938\u001b[0m \u001b[32m━━━━━━━━━━━━━━━━━━━━\u001b[0m\u001b[37m\u001b[0m \u001b[1m12s\u001b[0m 13ms/step - accuracy: 0.8875 - loss: 0.2985 - val_accuracy: 0.8767 - val_loss: 0.3414\n",
            "Epoch 3/5\n",
            "\u001b[1m938/938\u001b[0m \u001b[32m━━━━━━━━━━━━━━━━━━━━\u001b[0m\u001b[37m\u001b[0m \u001b[1m21s\u001b[0m 13ms/step - accuracy: 0.8932 - loss: 0.2856 - val_accuracy: 0.8803 - val_loss: 0.3361\n",
            "Epoch 4/5\n",
            "\u001b[1m938/938\u001b[0m \u001b[32m━━━━━━━━━━━━━━━━━━━━\u001b[0m\u001b[37m\u001b[0m \u001b[1m12s\u001b[0m 13ms/step - accuracy: 0.8944 - loss: 0.2809 - val_accuracy: 0.8761 - val_loss: 0.3493\n",
            "Epoch 5/5\n",
            "\u001b[1m938/938\u001b[0m \u001b[32m━━━━━━━━━━━━━━━━━━━━\u001b[0m\u001b[37m\u001b[0m \u001b[1m12s\u001b[0m 13ms/step - accuracy: 0.8991 - loss: 0.2712 - val_accuracy: 0.8873 - val_loss: 0.3154\n",
            "\u001b[1m313/313\u001b[0m \u001b[32m━━━━━━━━━━━━━━━━━━━━\u001b[0m\u001b[37m\u001b[0m \u001b[1m1s\u001b[0m 3ms/step - accuracy: 0.8853 - loss: 0.3144\n",
            "Accuracy del modelo: 0.8873\n"
          ]
        }
      ],
      "source": [
        "# Entrenar el modelo\n",
        "model.fit(x_train, y_train, epochs=5, batch_size=64, validation_data=(x_test, y_test))\n",
        "\n",
        "# Evaluar el modelo\n",
        "loss, accuracy = model.evaluate(x_test, y_test)\n",
        "print(f\"Accuracy del modelo: {accuracy:.4f}\")"
      ]
    },
    {
      "cell_type": "code",
      "execution_count": 14,
      "metadata": {
        "colab": {
          "base_uri": "https://localhost:8080/",
          "height": 377
        },
        "id": "ZF1GHPBdr0FZ",
        "outputId": "38252df9-f2cc-4c0e-f6ca-21f6bf892de9"
      },
      "outputs": [
        {
          "name": "stdout",
          "output_type": "stream",
          "text": [
            "\u001b[1m1/1\u001b[0m \u001b[32m━━━━━━━━━━━━━━━━━━━━\u001b[0m\u001b[37m\u001b[0m \u001b[1m0s\u001b[0m 38ms/step\n"
          ]
        },
        {
          "data": {
            "image/png": "[encoded data removed]",
            "text/plain": [
              "<Figure size 1000x400 with 10 Axes>"
            ]
          },
          "metadata": {},
          "output_type": "display_data"
        }
      ],
      "source": [
        "# Obtener algunas imágenes del conjunto de test\n",
        "n = 5  # Número de imágenes que queremos visualizar\n",
        "samples = x_test[:n]  # Imágenes originales\n",
        "true_labels = y_test[:n]  # Etiquetas verdaderas\n",
        "\n",
        "# Predecir las clases para estas imágenes\n",
        "predictions = model.predict(samples)\n",
        "\n",
        "# Convertir las predicciones a clases (índices de la clase con mayor probabilidad)\n",
        "predicted_labels = np.argmax(predictions, axis=1)\n",
        "\n",
        "# Visualizar las imágenes originales y las predicciones\n",
        "fig, axes = plt.subplots(2, n, figsize=(10, 4))\n",
        "\n",
        "for i in range(n):\n",
        "    # Imagen original\n",
        "    axes[0, i].imshow(samples[i].squeeze(), cmap='gray')\n",
        "    axes[0, i].axis('off')\n",
        "    axes[0, i].set_title(f\"True: {true_labels[i]}\")\n",
        "\n",
        "    # Imagen con la predicción\n",
        "    axes[1, i].imshow(samples[i].squeeze(), cmap='gray')\n",
        "    axes[1, i].axis('off')\n",
        "    axes[1, i].set_title(f\"Pred: {predicted_labels[i]}\")\n",
        "\n",
        "plt.show()\n"
      ]
    },
    {
      "cell_type": "code",
      "execution_count": null,
      "metadata": {
        "id": "kZY6iKKeRRFQ"
      },
      "outputs": [],
      "source": [
        "# Explicación para los alumnos:\n",
        "# Esta red neuronal recibe imágenes de 28x28 píxeles en escala de grises y las clasifica en 10 categorías de ropa.\n",
        "# Utiliza capas densas (fully connected) con activación ReLU y una capa final con activación softmax para la clasificación.\n",
        "# Además, emplea Dropout para reducir el sobreajuste.\n"
      ]
    },
    {
      "cell_type": "markdown",
      "metadata": {
        "id": "-uYDLa5F1m1m"
      },
      "source": [
        "## 📔➕📚 Autoencoder + Modelo Secuencial de Clasificacion 📔➕📚"
      ]
    },
    {
      "cell_type": "code",
      "execution_count": 31,
      "metadata": {
        "id": "xQBhjmq61uqP"
      },
      "outputs": [],
      "source": [
        "from tensorflow.keras.layers import Input, Dense, Flatten, Reshape\n",
        "from tensorflow.keras.models import Model\n",
        "\n",
        "# Cargar el dataset Fashion-MNIST\n",
        "(x_train, y_train), (x_test, y_test) = fashion_mnist.load_data()\n",
        "\n",
        "# Normalizar las imágenes\n",
        "x_train = x_train.astype('float32') / 255.0\n",
        "x_test = x_test.astype('float32') / 255.0\n",
        "\n",
        "# Dimensiones del espacio latente (puedes ajustarlo según los resultados que quieras)\n",
        "encoding_dim = 64  # Reducción a 64 dimensiones\n",
        "\n",
        "# Codificador\n",
        "input_img = Input(shape=(28, 28, 1))\n",
        "x = Flatten()(input_img)\n",
        "x = Dense(256, activation='relu')(x)\n",
        "x = Dense(encoding_dim, activation='relu')(x)\n",
        "encoded = x\n",
        "\n",
        "# Decodificador\n",
        "x = Dense(256, activation='relu')(encoded)\n",
        "x = Dense(28 * 28, activation='sigmoid')(x)\n",
        "decoded = Reshape((28, 28, 1))(x)"
      ]
    },
    {
      "cell_type": "code",
      "execution_count": 32,
      "metadata": {
        "colab": {
          "base_uri": "https://localhost:8080/"
        },
        "id": "L9tBPnXl2DfQ",
        "outputId": "7a8e2a8c-9c54-4d42-a1ad-0de68e22c219"
      },
      "outputs": [
        {
          "name": "stdout",
          "output_type": "stream",
          "text": [
            "Epoch 1/5\n",
            "\u001b[1m235/235\u001b[0m \u001b[32m━━━━━━━━━━━━━━━━━━━━\u001b[0m\u001b[37m\u001b[0m \u001b[1m8s\u001b[0m 28ms/step - loss: 0.4233 - val_loss: 0.3049\n",
            "Epoch 2/5\n",
            "\u001b[1m235/235\u001b[0m \u001b[32m━━━━━━━━━━━━━━━━━━━━\u001b[0m\u001b[37m\u001b[0m \u001b[1m11s\u001b[0m 29ms/step - loss: 0.2988 - val_loss: 0.2926\n",
            "Epoch 3/5\n",
            "\u001b[1m235/235\u001b[0m \u001b[32m━━━━━━━━━━━━━━━━━━━━\u001b[0m\u001b[37m\u001b[0m \u001b[1m10s\u001b[0m 27ms/step - loss: 0.2896 - val_loss: 0.2878\n",
            "Epoch 4/5\n",
            "\u001b[1m235/235\u001b[0m \u001b[32m━━━━━━━━━━━━━━━━━━━━\u001b[0m\u001b[37m\u001b[0m \u001b[1m10s\u001b[0m 24ms/step - loss: 0.2840 - val_loss: 0.2840\n",
            "Epoch 5/5\n",
            "\u001b[1m235/235\u001b[0m \u001b[32m━━━━━━━━━━━━━━━━━━━━\u001b[0m\u001b[37m\u001b[0m \u001b[1m7s\u001b[0m 29ms/step - loss: 0.2803 - val_loss: 0.2817\n"
          ]
        },
        {
          "data": {
            "text/plain": [
              "<keras.src.callbacks.history.History at 0x7815f578de50>"
            ]
          },
          "execution_count": 32,
          "metadata": {},
          "output_type": "execute_result"
        }
      ],
      "source": [
        "# Autoencoder\n",
        "autoencoder = Model(input_img, decoded)\n",
        "autoencoder.compile(optimizer='adam', loss='binary_crossentropy')\n",
        "\n",
        "# Entrenar el autoencoder\n",
        "autoencoder.fit(x_train, x_train, epochs=5, batch_size=256, shuffle=True, validation_data=(x_test, x_test))"
      ]
    },
    {
      "cell_type": "code",
      "execution_count": 33,
      "metadata": {
        "colab": {
          "base_uri": "https://localhost:8080/",
          "height": 355
        },
        "id": "A1XxVeiU2eNl",
        "outputId": "295b11c4-be31-4d6f-b6f9-444b010e7fca"
      },
      "outputs": [
        {
          "name": "stdout",
          "output_type": "stream",
          "text": [
            "\u001b[1m1/1\u001b[0m \u001b[32m━━━━━━━━━━━━━━━━━━━━\u001b[0m\u001b[37m\u001b[0m \u001b[1m0s\u001b[0m 81ms/step\n"
          ]
        },
        {
          "data": {
            "image/png": "[encoded data removed]",
            "text/plain": [
              "<Figure size 1000x400 with 10 Axes>"
            ]
          },
          "metadata": {},
          "output_type": "display_data"
        }
      ],
      "source": [
        "# Evaluación y visualización de reconstrucciones\n",
        "n = 5\n",
        "samples = x_test[:n]\n",
        "reconstructions = autoencoder.predict(samples)\n",
        "\n",
        "fig, axes = plt.subplots(2, n, figsize=(10, 4))\n",
        "for i in range(n):\n",
        "    # Imagen original\n",
        "    axes[0, i].imshow(samples[i].squeeze(), cmap='gray')\n",
        "    axes[0, i].axis('off')\n",
        "    # Imagen reconstruida\n",
        "    axes[1, i].imshow(reconstructions[i].squeeze(), cmap='gray')\n",
        "    axes[1, i].axis('off')\n",
        "plt.show()"
      ]
    },
    {
      "cell_type": "code",
      "execution_count": 37,
      "metadata": {
        "colab": {
          "base_uri": "https://localhost:8080/"
        },
        "id": "fNNivaGt2jAw",
        "outputId": "55b6b481-bab0-49e4-ce40-906d079a5003"
      },
      "outputs": [
        {
          "name": "stdout",
          "output_type": "stream",
          "text": [
            "\u001b[1m1875/1875\u001b[0m \u001b[32m━━━━━━━━━━━━━━━━━━━━\u001b[0m\u001b[37m\u001b[0m \u001b[1m6s\u001b[0m 3ms/step\n",
            "\u001b[1m313/313\u001b[0m \u001b[32m━━━━━━━━━━━━━━━━━━━━\u001b[0m\u001b[37m\u001b[0m \u001b[1m1s\u001b[0m 3ms/step\n"
          ]
        }
      ],
      "source": [
        "# Extraer el codificador del autoencoder\n",
        "# encoder = Model(input_img, encoded)\n",
        "\n",
        "# Obtener las representaciones latentes de las imágenes de entrenamiento y prueba\n",
        "x_train_encoded = autoencoder.predict(x_train)\n",
        "x_test_encoded = autoencoder.predict(x_test)\n"
      ]
    },
    {
      "cell_type": "code",
      "execution_count": 38,
      "metadata": {
        "colab": {
          "base_uri": "https://localhost:8080/"
        },
        "id": "OENss4x_2yoM",
        "outputId": "652fefa4-ce65-4278-e080-7d320e405c76"
      },
      "outputs": [
        {
          "name": "stderr",
          "output_type": "stream",
          "text": [
            "/usr/local/lib/python3.11/dist-packages/keras/src/layers/reshaping/flatten.py:37: UserWarning: Do not pass an `input_shape`/`input_dim` argument to a layer. When using Sequential models, prefer using an `Input(shape)` object as the first layer in the model instead.\n",
            "  super().__init__(**kwargs)\n"
          ]
        }
      ],
      "source": [
        "# Crear el modelo secuencial\n",
        "model = Sequential([\n",
        "  Flatten(input_shape=(28, 28)),  # Capa de entrada (Flatten)\n",
        "  Dense(512, activation='relu'),  # Capa densa con 512 neuronas y ReLU\n",
        "  Dropout(0.2),  # Dropout del 20%\n",
        "  Dense(256, activation='relu'),  # Capa densa con 256 neuronas y ReLU\n",
        "  Dropout(0.2),  # Dropout del 20%\n",
        "  Dense(128, activation='relu'),  # Capa densa con 128 neuronas y ReLU\n",
        "  Dense(10, activation='softmax') # Capa de salida con 10 neuronas y softmax\n",
        "  ])  # 10 clases para Fashion MNIST\n",
        "\n",
        "# Compilar el modelo\n",
        "model.compile(optimizer='adam', loss='sparse_categorical_crossentropy', metrics=['accuracy'])\n"
      ]
    },
    {
      "cell_type": "code",
      "execution_count": 39,
      "metadata": {
        "colab": {
          "base_uri": "https://localhost:8080/"
        },
        "id": "fTubz1qz3gdF",
        "outputId": "01a40601-3063-4161-a635-fa8d1482360d"
      },
      "outputs": [
        {
          "name": "stdout",
          "output_type": "stream",
          "text": [
            "Epoch 1/5\n",
            "\u001b[1m235/235\u001b[0m \u001b[32m━━━━━━━━━━━━━━━━━━━━\u001b[0m\u001b[37m\u001b[0m \u001b[1m8s\u001b[0m 26ms/step - accuracy: 0.7119 - loss: 0.8181 - val_accuracy: 0.8223 - val_loss: 0.4790\n",
            "Epoch 2/5\n",
            "\u001b[1m235/235\u001b[0m \u001b[32m━━━━━━━━━━━━━━━━━━━━\u001b[0m\u001b[37m\u001b[0m \u001b[1m10s\u001b[0m 24ms/step - accuracy: 0.8273 - loss: 0.4656 - val_accuracy: 0.8313 - val_loss: 0.4657\n",
            "Epoch 3/5\n",
            "\u001b[1m235/235\u001b[0m \u001b[32m━━━━━━━━━━━━━━━━━━━━\u001b[0m\u001b[37m\u001b[0m \u001b[1m7s\u001b[0m 29ms/step - accuracy: 0.8394 - loss: 0.4292 - val_accuracy: 0.8461 - val_loss: 0.4225\n",
            "Epoch 4/5\n",
            "\u001b[1m235/235\u001b[0m \u001b[32m━━━━━━━━━━━━━━━━━━━━\u001b[0m\u001b[37m\u001b[0m \u001b[1m9s\u001b[0m 24ms/step - accuracy: 0.8481 - loss: 0.4085 - val_accuracy: 0.8394 - val_loss: 0.4267\n",
            "Epoch 5/5\n",
            "\u001b[1m235/235\u001b[0m \u001b[32m━━━━━━━━━━━━━━━━━━━━\u001b[0m\u001b[37m\u001b[0m \u001b[1m10s\u001b[0m 24ms/step - accuracy: 0.8541 - loss: 0.3927 - val_accuracy: 0.8515 - val_loss: 0.4054\n"
          ]
        }
      ],
      "source": [
        "# Entrenar el modelo\n",
        "history_autoencoder = model.fit(x_train_encoded, y_train, epochs=5, batch_size=256, validation_data=(x_test_encoded, y_test))"
      ]
    },
    {
      "cell_type": "code",
      "execution_count": 40,
      "metadata": {
        "colab": {
          "base_uri": "https://localhost:8080/"
        },
        "id": "P9zpcgyB3nEV",
        "outputId": "175d86ae-8f66-4fd4-c64d-55cdcd9cb70a"
      },
      "outputs": [
        {
          "name": "stdout",
          "output_type": "stream",
          "text": [
            "\u001b[1m313/313\u001b[0m \u001b[32m━━━━━━━━━━━━━━━━━━━━\u001b[0m\u001b[37m\u001b[0m \u001b[1m1s\u001b[0m 3ms/step - accuracy: 0.8527 - loss: 0.3968\n",
            "Test accuracy with autoencoder: 0.8515\n"
          ]
        }
      ],
      "source": [
        "# Evaluar el modelo en el conjunto de prueba\n",
        "test_loss, test_acc = model.evaluate(x_test_encoded, y_test)\n",
        "print(f\"Test accuracy with autoencoder: {test_acc:.4f}\")"
      ]
    },
    {
      "cell_type": "markdown",
      "metadata": {
        "id": "AUal0DZv3vSq"
      },
      "source": [
        "## ⚖️ Comparacion: Sin autoencoder Vs Con autoencoder ⚖️"
      ]
    },
    {
      "cell_type": "code",
      "execution_count": 41,
      "metadata": {
        "colab": {
          "base_uri": "https://localhost:8080/"
        },
        "id": "HK-rESAR4VS8",
        "outputId": "f8b76801-d226-463f-96c6-129f9e18d348"
      },
      "outputs": [
        {
          "name": "stdout",
          "output_type": "stream",
          "text": [
            "The acuuracy without autoencoder is: 0.8873\n",
            "The acuuracy with autoencoder is: 0.8515\n"
          ]
        }
      ],
      "source": [
        "print(f\"The acuuracy without autoencoder is: {accuracy:.4f}\")\n",
        "print(f\"The acuuracy with autoencoder is: {test_acc:.4f}\")\n"
      ]
    },
    {
      "cell_type": "markdown",
      "metadata": {
        "id": "l7s6vjUU_0uK"
      },
      "source": [
        "## 👑 Conclusion 👑"
      ]
    },
    {
      "cell_type": "markdown",
      "metadata": {
        "id": "XYEBvPkM_ySo"
      },
      "source": [
        "La pérdida de un pequeño porcentaje de accuracy al usar el autoencoder puede ser positiva o negativa. Es buena si permite una reducción de la dimensionalidad, mayor velocidad de procesamiento, y menor uso de recursos sin afectar gravemente el rendimiento. Este es un caso típico donde el trade-off entre precisión y eficiencia puede ser aceptable dependiendo de los requisitos específicos de la tarea y el entorno de aplicación."
      ]
    }
  ],
  "metadata": {
    "colab": {
      "collapsed_sections": [
        "Qs0-absf0sdt",
        "w_rdmXHn0ysB",
        "LgMruksn09-s",
        "Ol99TcW11FcI",
        "-uYDLa5F1m1m",
        "AUal0DZv3vSq",
        "l7s6vjUU_0uK"
      ],
      "provenance": []
    },
    "kernelspec": {
      "display_name": "Python 3",
      "name": "python3"
    },
    "language_info": {
      "name": "python"
    }
  },
  "nbformat": 4,
  "nbformat_minor": 0
}
